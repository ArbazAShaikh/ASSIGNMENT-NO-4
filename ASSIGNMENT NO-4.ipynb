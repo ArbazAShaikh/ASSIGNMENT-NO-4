{
 "cells": [
  {
   "cell_type": "markdown",
   "id": "8114f5cd",
   "metadata": {},
   "source": [
    "#  ASSIGNMENT NO-4 (FUNCTION)"
   ]
  },
  {
   "cell_type": "markdown",
   "id": "0b9ad7db",
   "metadata": {},
   "source": [
    "### Q1. Which keyword is used to create a function? Create a function to return a list of odd numbers in the range of 1 to 25."
   ]
  },
  {
   "cell_type": "markdown",
   "id": "e8c6eb8c",
   "metadata": {},
   "source": [
    "#### Ans.'def' keyword is used to create  function. for example- def add()"
   ]
  },
  {
   "cell_type": "code",
   "execution_count": 3,
   "id": "57acd373",
   "metadata": {},
   "outputs": [],
   "source": [
    "def odd(n):\n",
    "    for i in range(0,n+1):\n",
    "        if i%2 ==0:\n",
    "            pass\n",
    "        else:\n",
    "            print(i)"
   ]
  },
  {
   "cell_type": "code",
   "execution_count": 4,
   "id": "a18140ea",
   "metadata": {},
   "outputs": [
    {
     "name": "stdout",
     "output_type": "stream",
     "text": [
      "1\n",
      "3\n",
      "5\n",
      "7\n",
      "9\n",
      "11\n",
      "13\n",
      "15\n",
      "17\n",
      "19\n",
      "21\n",
      "23\n",
      "25\n"
     ]
    }
   ],
   "source": [
    "odd(25)"
   ]
  },
  {
   "cell_type": "markdown",
   "id": "9b304351",
   "metadata": {},
   "source": [
    "### Q2. Why *args and **kwargs is used in some functions? Create a function each for *args and **kwargs to demonstrate their use."
   ]
  },
  {
   "cell_type": "markdown",
   "id": "15adc3e3",
   "metadata": {},
   "source": [
    "#### Ans. *args and **kwargs are special syntax used in Python functions to handle a variable number of arguments. They allow a function to accept an arbitrary number of positional and keyword arguments, respectively.\n",
    "\n",
    "#### 1.*args:The *args parameter in a function allows you to pass an arbitrary number of positional arguments to the function. These arguments are collected into a tuple within the function, and you can use them as needed."
   ]
  },
  {
   "cell_type": "code",
   "execution_count": 5,
   "id": "c6e27abd",
   "metadata": {},
   "outputs": [],
   "source": [
    "def sum_numbers(*args):\n",
    "    total = 0\n",
    "    for num in args:\n",
    "        total += num\n",
    "    return total "
   ]
  },
  {
   "cell_type": "code",
   "execution_count": 6,
   "id": "6588ee5e",
   "metadata": {},
   "outputs": [
    {
     "data": {
      "text/plain": [
       "55"
      ]
     },
     "execution_count": 6,
     "metadata": {},
     "output_type": "execute_result"
    }
   ],
   "source": [
    "sum_numbers(1,2,3,4,5,6,7,8,9,10)"
   ]
  },
  {
   "cell_type": "markdown",
   "id": "419c08e3",
   "metadata": {},
   "source": [
    "#### 2.**kwargs:The **kwargs parameter in a function allows you to pass an arbitrary number of keyword arguments to the function. These arguments are collected into a dictionary within the function, and you can access their values using the provided keys.\n"
   ]
  },
  {
   "cell_type": "code",
   "execution_count": 7,
   "id": "05276c10",
   "metadata": {},
   "outputs": [],
   "source": [
    "def display(**kwargs):\n",
    "    return kwargs"
   ]
  },
  {
   "cell_type": "code",
   "execution_count": 8,
   "id": "2375e08a",
   "metadata": {},
   "outputs": [
    {
     "data": {
      "text/plain": [
       "{'a': 'arbaz', 'b': 'shaikh', 'c': 12, 'd': True}"
      ]
     },
     "execution_count": 8,
     "metadata": {},
     "output_type": "execute_result"
    }
   ],
   "source": [
    "display(a=\"arbaz\",b=\"shaikh\",c=12,d=True)"
   ]
  },
  {
   "cell_type": "markdown",
   "id": "bd0cb3a9",
   "metadata": {},
   "source": [
    "### Q3.What is an iterator in python? Name the method used to initialise the iterator object and the method used for iteration. Use these methods to print the first five elements of the given list [2, 4, 6, 8, 10, 12, 14, 16, 18, 20]."
   ]
  },
  {
   "cell_type": "markdown",
   "id": "67bfdcb2",
   "metadata": {},
   "source": [
    "#### Ans. In Python, an iterator is an object that allows you to traverse through a sequence of elements one by one without knowing the underlying details of the sequence's implementation. It provides two important methods: __iter__() and __next__(), which are used for initializing the iterator object and iterating through the elements, respectively.\n",
    "\n",
    "#### 1.__iter__() method:The __iter__() method initializes the iterator object. It returns the iterator object itself, allowing it to be used in iteration.\n",
    "\n",
    "#### 2.__next__() method:The __next__() method is used for iteration. It returns the next element in the sequence. When there are no more elements to iterate through, it raises the StopIteration exception to signal the end of iteration."
   ]
  },
  {
   "cell_type": "code",
   "execution_count": 10,
   "id": "0970d9ed",
   "metadata": {},
   "outputs": [
    {
     "name": "stdout",
     "output_type": "stream",
     "text": [
      "2\n",
      "4\n",
      "6\n",
      "8\n",
      "10\n"
     ]
    }
   ],
   "source": [
    "list1 = [2, 4, 6, 8, 10, 12, 14, 16, 18, 20]\n",
    "\n",
    "iterator1 = iter(list1)\n",
    "\n",
    "for _ in range(5):\n",
    "    try:\n",
    "        element = next(iterator1)\n",
    "        print(element)\n",
    "    except StopIteration:\n",
    "        break\n"
   ]
  },
  {
   "cell_type": "markdown",
   "id": "53f8dddf",
   "metadata": {},
   "source": [
    "### Q4.  What is a generator function in python? Why yield keyword is used? Give an example of a generator function."
   ]
  },
  {
   "cell_type": "markdown",
   "id": "ce385ae4",
   "metadata": {},
   "source": [
    "#### In Python, a generator function is a special type of function that generates an iterator. Instead of returning a single value like regular functions, generator functions use the `yield` keyword to produce a sequence of values one at a time. The state of the generator function is saved between each `yield` statement, allowing it to resume execution from where it left off when the next value is requested.\n",
    "\n",
    "#### The key difference between a regular function and a generator function is that regular functions use `return` to provide a single value and terminate the function's execution, while generator functions use `yield` to produce a value temporarily and allow the function to continue running when the next value is needed.\n",
    "\n",
    "#### Benefits of using generator functions:\n",
    "#### 1. Memory efficiency: Generator functions generate values on-the-fly, so they do not store the entire sequence in memory at once. This makes them more memory-efficient, especially when dealing with large datasets or infinite sequences.\n",
    "#### 2. Laziness: Generator functions are lazy in nature. They only compute values as requested, which can lead to significant performance improvements in certain scenarios.\n",
    "#### 3. Easy iteration: Since generator functions produce iterators, they can be easily used in `for` loops and other iterable contexts.\n",
    "\n"
   ]
  },
  {
   "cell_type": "code",
   "execution_count": 11,
   "id": "badc2dba",
   "metadata": {},
   "outputs": [],
   "source": [
    "# Example\n",
    "def sq(n):\n",
    "    for i in range(0,n+1):\n",
    "        yield i**2"
   ]
  },
  {
   "cell_type": "code",
   "execution_count": 12,
   "id": "be6a41d6",
   "metadata": {},
   "outputs": [
    {
     "data": {
      "text/plain": [
       "<generator object sq at 0x000001FEE704A3C0>"
      ]
     },
     "execution_count": 12,
     "metadata": {},
     "output_type": "execute_result"
    }
   ],
   "source": [
    "sq(10)"
   ]
  },
  {
   "cell_type": "code",
   "execution_count": 13,
   "id": "d895dfea",
   "metadata": {},
   "outputs": [
    {
     "name": "stdout",
     "output_type": "stream",
     "text": [
      "0\n",
      "1\n",
      "4\n",
      "9\n",
      "16\n",
      "25\n",
      "36\n",
      "49\n",
      "64\n",
      "81\n",
      "100\n"
     ]
    }
   ],
   "source": [
    "for x in sq(10):\n",
    "    print(x)"
   ]
  },
  {
   "cell_type": "markdown",
   "id": "d42d5df9",
   "metadata": {},
   "source": [
    "### Q5. Create a generator function for prime numbers less than 1000. Use the next() method to print the first 20 prime numbers."
   ]
  },
  {
   "cell_type": "code",
   "execution_count": 16,
   "id": "eabcc81b",
   "metadata": {},
   "outputs": [
    {
     "name": "stdout",
     "output_type": "stream",
     "text": [
      "2\n",
      "3\n",
      "5\n",
      "7\n",
      "11\n",
      "13\n",
      "17\n",
      "19\n",
      "23\n",
      "29\n",
      "31\n",
      "37\n",
      "41\n",
      "43\n",
      "47\n",
      "53\n",
      "59\n",
      "61\n",
      "67\n",
      "71\n"
     ]
    }
   ],
   "source": [
    "def generate_primes(limit):\n",
    "    primes = []\n",
    "    num = 2\n",
    "\n",
    "    while num < limit:\n",
    "        is_prime = True\n",
    "\n",
    "        for prime in primes:\n",
    "            if num % prime == 0:\n",
    "                is_prime = False\n",
    "                break\n",
    "\n",
    "        if is_prime:\n",
    "            primes.append(num)\n",
    "            yield num\n",
    "\n",
    "        num += 1\n",
    "\n",
    "\n",
    "prime_generator = generate_primes(1000)\n",
    "\n",
    "for _ in range(20):\n",
    "    print(next(prime_generator))\n"
   ]
  }
 ],
 "metadata": {
  "kernelspec": {
   "display_name": "Python 3 (ipykernel)",
   "language": "python",
   "name": "python3"
  },
  "language_info": {
   "codemirror_mode": {
    "name": "ipython",
    "version": 3
   },
   "file_extension": ".py",
   "mimetype": "text/x-python",
   "name": "python",
   "nbconvert_exporter": "python",
   "pygments_lexer": "ipython3",
   "version": "3.9.13"
  }
 },
 "nbformat": 4,
 "nbformat_minor": 5
}
